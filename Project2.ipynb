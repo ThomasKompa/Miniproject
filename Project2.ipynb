{
 "cells": [
  {
   "cell_type": "code",
   "execution_count": 62,
   "id": "0604ecba",
   "metadata": {},
   "outputs": [],
   "source": [
    "#Importing libraries\n",
    "import numpy as np\n",
    "import pandas as pd\n",
    "import matplotlib.pyplot as plt"
   ]
  },
  {
   "cell_type": "code",
   "execution_count": 63,
   "id": "4cdbdadb",
   "metadata": {},
   "outputs": [
    {
     "name": "stderr",
     "output_type": "stream",
     "text": [
      "UsageError: Line magic function `%` not found.\n"
     ]
    }
   ],
   "source": [
    "% matplotlib inline\n",
    "\n",
    "# The above command sets the backend of matplotlib to the 'inline' backend. \n",
    "# It means the output of plotting commands is displayed inline."
   ]
  },
  {
   "cell_type": "code",
   "execution_count": 64,
   "id": "5efe2d85",
   "metadata": {},
   "outputs": [],
   "source": [
    "#importing dataset\n",
    "df = pd.read_csv(\"fpl_cost_vs_efficiency.csv\")"
   ]
  },
  {
   "cell_type": "code",
   "execution_count": 65,
   "id": "c7538106",
   "metadata": {},
   "outputs": [
    {
     "name": "stdout",
     "output_type": "stream",
     "text": [
      "(48, 2)\n"
     ]
    }
   ],
   "source": [
    "#Data Analysis\n",
    "print(df.shape)"
   ]
  },
  {
   "cell_type": "code",
   "execution_count": 66,
   "id": "1ee7a351",
   "metadata": {},
   "outputs": [
    {
     "name": "stdout",
     "output_type": "stream",
     "text": [
      "   cost   season ppm\n",
      "0   4.0     4.000000\n",
      "1   4.5     5.555556\n",
      "2   5.0     5.400000\n",
      "3   4.5     5.111111\n",
      "4   5.5     5.090909\n"
     ]
    }
   ],
   "source": [
    "#Top 5 rows of the dataset\n",
    "print(df.head())"
   ]
  },
  {
   "cell_type": "code",
   "execution_count": 67,
   "id": "cb9f7795",
   "metadata": {},
   "outputs": [],
   "source": [
    "#Renaming the single column to 'cost'\n",
    "df.columns = ['cost', 'efficiency']"
   ]
  },
  {
   "cell_type": "code",
   "execution_count": 68,
   "id": "146eca84",
   "metadata": {},
   "outputs": [
    {
     "name": "stdout",
     "output_type": "stream",
     "text": [
      "   cost  efficiency\n",
      "0   4.0    4.000000\n",
      "1   4.5    5.555556\n",
      "2   5.0    5.400000\n",
      "3   4.5    5.111111\n",
      "4   5.5    5.090909\n"
     ]
    }
   ],
   "source": [
    "#top 5 rows after renaming columns\n",
    "print(df.head())"
   ]
  },
  {
   "cell_type": "code",
   "execution_count": 69,
   "id": "e1118732",
   "metadata": {},
   "outputs": [
    {
     "name": "stdout",
     "output_type": "stream",
     "text": [
      "<class 'pandas.core.frame.DataFrame'>\n",
      "RangeIndex: 48 entries, 0 to 47\n",
      "Data columns (total 2 columns):\n",
      " #   Column      Non-Null Count  Dtype  \n",
      "---  ------      --------------  -----  \n",
      " 0   cost        48 non-null     float64\n",
      " 1   efficiency  48 non-null     float64\n",
      "dtypes: float64(2)\n",
      "memory usage: 900.0 bytes\n",
      "None\n"
     ]
    }
   ],
   "source": [
    "#data types and non-null values\n",
    "print(df.info())"
   ]
  },
  {
   "cell_type": "code",
   "execution_count": 70,
   "id": "ffec5627",
   "metadata": {},
   "outputs": [
    {
     "name": "stdout",
     "output_type": "stream",
     "text": [
      "            cost  efficiency\n",
      "count  48.000000   48.000000\n",
      "mean    5.168750    3.574443\n",
      "std     0.795775    0.693733\n",
      "min     4.000000    2.727273\n",
      "25%     4.500000    3.111111\n",
      "50%     5.000000    3.392308\n",
      "75%     5.500000    3.862876\n",
      "max     7.500000    5.555556\n"
     ]
    }
   ],
   "source": [
    "#descriptive version of the dataset\n",
    "print(df.describe())"
   ]
  },
  {
   "cell_type": "code",
   "execution_count": 75,
   "id": "ad8eb47a",
   "metadata": {},
   "outputs": [],
   "source": [
    "#input or independent variable\n",
    "X = df[\"cost\"].values\n",
    "\n",
    "#output or dependent variable\n",
    "y = df[\"efficiency\"].values"
   ]
  },
  {
   "cell_type": "code",
   "execution_count": 76,
   "id": "8b0dfd6c",
   "metadata": {},
   "outputs": [
    {
     "data": {
      "image/png": "[encoded data removed]",
      "text/plain": [
       "<Figure size 640x480 with 1 Axes>"
      ]
     },
     "metadata": {},
     "output_type": "display_data"
    }
   ],
   "source": [
    "plt.scatter(X, y, color='blue', label='scatter plot')  \n",
    "plt.title('Cost vs Efficiency')\n",
    "plt.xlabel('Cost')\n",
    "plt.ylabel('Efficiency')\n",
    "plt.legend(loc=4)\n",
    "plt.show()"
   ]
  },
  {
   "cell_type": "code",
   "execution_count": 79,
   "id": "b723ec2e",
   "metadata": {},
   "outputs": [
    {
     "name": "stdout",
     "output_type": "stream",
     "text": [
      "(48, 1)\n",
      "(48, 1)\n"
     ]
    }
   ],
   "source": [
    "#Dimensions of x and y\n",
    "\n",
    "print(X.shape)\n",
    "print(y.shape)"
   ]
  },
  {
   "cell_type": "code",
   "execution_count": 80,
   "id": "94cc6616",
   "metadata": {},
   "outputs": [],
   "source": [
    "#Reshaping X and y\n",
    "X = X.reshape(-1, 1)\n",
    "y = y.reshape(-1, 1)"
   ]
  },
  {
   "cell_type": "code",
   "execution_count": 81,
   "id": "4e56154e",
   "metadata": {},
   "outputs": [
    {
     "name": "stdout",
     "output_type": "stream",
     "text": [
      "(48, 1)\n",
      "(48, 1)\n"
     ]
    }
   ],
   "source": [
    "#print after reshaping\n",
    "print(X.shape)\n",
    "print(y.shape)"
   ]
  },
  {
   "cell_type": "code",
   "execution_count": null,
   "id": "27b24262",
   "metadata": {},
   "outputs": [],
   "source": [
    "#Plit X and y into training and testing sets\n",
    "\n",
    "from sklearn.model_selection import train_test_split    \n",
    "X_train,X_test,y_train,y_test = train_test_split(X,y,test_size=0.33,random_state=42)"
   ]
  },
  {
   "cell_type": "code",
   "execution_count": 83,
   "id": "0727da36",
   "metadata": {},
   "outputs": [
    {
     "name": "stdout",
     "output_type": "stream",
     "text": [
      "(32, 1)\n",
      "(16, 1)\n",
      "(16, 1)\n",
      "(16, 1)\n"
     ]
    }
   ],
   "source": [
    "#Print the dimensions\n",
    "print(X_train.shape)\n",
    "print(y_test.shape)\n",
    "print(X_test.shape)\n",
    "print(y_test.shape)"
   ]
  },
  {
   "cell_type": "code",
   "execution_count": 86,
   "id": "89cfa081",
   "metadata": {},
   "outputs": [],
   "source": [
    "#The model is ready for training and testing \n",
    "from sklearn.linear_model import LinearRegression\n",
    "lm = LinearRegression()\n",
    "\n",
    "#Training the model\n",
    "lm.fit(X_train,y_train)\n",
    "\n",
    "#Now comes the Testing part\n",
    "y_pred=lm.predict(X_test)\n",
    "\n",
    "\n"
   ]
  },
  {
   "cell_type": "code",
   "execution_count": 85,
   "id": "6a895010",
   "metadata": {},
   "outputs": [
    {
     "name": "stdout",
     "output_type": "stream",
     "text": [
      "Estimated model slope a:  [[-0.15593591]]\n",
      "Estimated model intercept b:  [4.32500902]\n"
     ]
    }
   ],
   "source": [
    "a = lm.coef_\n",
    "b = lm.intercept_\n",
    "print(\"Estimated model slope a: \", a)\n",
    "print(\"Estimated model intercept b: \", b)"
   ]
  },
  {
   "cell_type": "code",
   "execution_count": null,
   "id": "544fd047",
   "metadata": {},
   "outputs": [],
   "source": [
    "#So our fittest regression line is \n",
    "# y = -0.15593591*x + 4.32500902\n",
    "#This is our Linear Model"
   ]
  },
  {
   "cell_type": "code",
   "execution_count": 87,
   "id": "e14fc269",
   "metadata": {},
   "outputs": [
    {
     "data": {
      "text/plain": [
       "array([[3.70126536],\n",
       "       [3.6232974 ],\n",
       "       [3.54532944],\n",
       "       [3.6232974 ],\n",
       "       [3.46736149]])"
      ]
     },
     "execution_count": 87,
     "metadata": {},
     "output_type": "execute_result"
    }
   ],
   "source": [
    "lm.predict(X)[0:5]"
   ]
  },
  {
   "cell_type": "code",
   "execution_count": null,
   "id": "f41d9e24",
   "metadata": {},
   "outputs": [
    {
     "name": "stdout",
     "output_type": "stream",
     "text": [
      "RMSE value: 0.6946\n"
     ]
    }
   ],
   "source": [
    "#Evaluating the model performance\n",
    "#Calculate and printing the RMSE value\n",
    "#Lower the RMSE value, better the model\n",
    "from sklearn.metrics import mean_squared_error\n",
    "mse = mean_squared_error(y_test, y_pred)\n",
    "rmse = np.sqrt(mse)\n",
    "print(\"RMSE value: {:.4f}\".format(rmse))\n",
    "\n"
   ]
  },
  {
   "cell_type": "code",
   "execution_count": 91,
   "id": "6b81bf7d",
   "metadata": {},
   "outputs": [
    {
     "data": {
      "image/png": "[encoded data removed]",
      "text/plain": [
       "<Figure size 640x480 with 1 Axes>"
      ]
     },
     "metadata": {},
     "output_type": "display_data"
    }
   ],
   "source": [
    "#Plotting the regression line\n",
    "plt.scatter(X, y, color = 'blue', label = 'scatter plot')\n",
    "plt.plot(X_test, y_pred, color = 'black', linewidth = 3, label = 'Regression Line')\n",
    "plt.title(\"Relationship between Cost and Efficiency \")\n",
    "plt.xlabel('Cost')\n",
    "plt.ylabel('Efficiency')\n",
    "plt.legend(loc=4)\n",
    "plt.show()"
   ]
  },
  {
   "cell_type": "code",
   "execution_count": 92,
   "id": "a9d98e85",
   "metadata": {},
   "outputs": [
    {
     "data": {
      "image/png": "[encoded data removed]",
      "text/plain": [
       "<Figure size 640x480 with 1 Axes>"
      ]
     },
     "metadata": {},
     "output_type": "display_data"
    }
   ],
   "source": [
    "#Plotting residual errors\n",
    "\n",
    "plt.scatter(lm.predict(X_train), lm.predict(X_train) - y_train, color = 'red', label = 'Train data')\n",
    "plt.scatter(lm.predict(X_test), lm.predict(X_test) - y_test, color = 'blue', label = 'Test data')\n",
    "plt.hlines(xmin = 0, xmax = 5, y = 0, linewidth = 3)\n",
    "plt.legend(loc = 4)\n",
    "plt.show()\n"
   ]
  },
  {
   "cell_type": "code",
   "execution_count": null,
   "id": "a3463160",
   "metadata": {},
   "outputs": [
    {
     "name": "stdout",
     "output_type": "stream",
     "text": [
      "Training set score: 0.0347\n",
      "Testing set score: 0.0006\n"
     ]
    }
   ],
   "source": [
    "#Checking for overfitting and underfitting\n",
    "print(\"Training set score: {:.4f}\".format(lm.score(X_train, y_train)))\n",
    "print(\"Testing set score: {:.4f}\".format(lm.score(X_test, y_test)))\n",
    "#it is very underfitted model as the training score is very high as compared to testing score\n",
    "#so our dataset is not ideal for linear regression\n"
   ]
  },
  {
   "cell_type": "code",
   "execution_count": 97,
   "id": "1d704d75",
   "metadata": {},
   "outputs": [
    {
     "data": {
      "text/plain": [
       "['lm_regressor.pkl']"
      ]
     },
     "execution_count": 97,
     "metadata": {},
     "output_type": "execute_result"
    }
   ],
   "source": [
    "#Save model for future use\n",
    "import joblib\n",
    "joblib.dump(lm, 'lm_regressor.pkl')\n",
    "\n",
    "#To load the model\n",
    "#lm2=joblib.load('lm_regressor.pkl')"
   ]
  }
 ],
 "metadata": {
  "kernelspec": {
   "display_name": "Python 3",
   "language": "python",
   "name": "python3"
  },
  "language_info": {
   "codemirror_mode": {
    "name": "ipython",
    "version": 3
   },
   "file_extension": ".py",
   "mimetype": "text/x-python",
   "name": "python",
   "nbconvert_exporter": "python",
   "pygments_lexer": "ipython3",
   "version": "3.13.7"
  }
 },
 "nbformat": 4,
 "nbformat_minor": 5
}
