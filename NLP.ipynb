{
 "cells": [
  {
   "cell_type": "code",
   "execution_count": 1,
   "id": "bd453c42",
   "metadata": {},
   "outputs": [],
   "source": [
    "# Import required libraries\n",
    "import pandas as pd\n",
    "import numpy as np\n",
    "import nltk\n",
    "from nltk.tokenize import word_tokenize\n",
    "from nltk.corpus import stopwords\n",
    "from nltk.stem import PorterStemmer, WordNetLemmatizer\n",
    "from nltk import pos_tag\n",
    "from sklearn.feature_extraction.text import CountVectorizer, TfidfVectorizer\n",
    "from sklearn.model_selection import train_test_split\n",
    "from sklearn.naive_bayes import MultinomialNB\n",
    "from sklearn.linear_model import LogisticRegression\n",
    "from sklearn.metrics import accuracy_score, classification_report, confusion_matrix\n",
    "import warnings\n",
    "warnings.filterwarnings('ignore')\n"
   ]
  },
  {
   "cell_type": "code",
   "execution_count": 2,
   "id": "8bd15011",
   "metadata": {},
   "outputs": [
    {
     "name": "stderr",
     "output_type": "stream",
     "text": [
      "[nltk_data] Downloading package punkt_tab to\n",
      "[nltk_data]     C:\\Users\\thoma\\AppData\\Roaming\\nltk_data...\n",
      "[nltk_data]   Package punkt_tab is already up-to-date!\n",
      "[nltk_data] Downloading package averaged_perceptron_tagger_eng to\n",
      "[nltk_data]     C:\\Users\\thoma\\AppData\\Roaming\\nltk_data...\n"
     ]
    },
    {
     "name": "stdout",
     "output_type": "stream",
     "text": [
      "\n",
      "NLTK data downloaded successfully!\n"
     ]
    },
    {
     "name": "stderr",
     "output_type": "stream",
     "text": [
      "[nltk_data]   Unzipping taggers\\averaged_perceptron_tagger_eng.zip.\n",
      "[nltk_data] Downloading package stopwords to\n",
      "[nltk_data]     C:\\Users\\thoma\\AppData\\Roaming\\nltk_data...\n",
      "[nltk_data]   Package stopwords is already up-to-date!\n",
      "[nltk_data] Downloading package wordnet to\n",
      "[nltk_data]     C:\\Users\\thoma\\AppData\\Roaming\\nltk_data...\n",
      "[nltk_data]   Package wordnet is already up-to-date!\n",
      "[nltk_data] Downloading package omw-1.4 to\n",
      "[nltk_data]     C:\\Users\\thoma\\AppData\\Roaming\\nltk_data...\n",
      "[nltk_data]   Package omw-1.4 is already up-to-date!\n"
     ]
    }
   ],
   "source": [
    "# Download required NLTK data\n",
    "import nltk\n",
    "\n",
    "# Download punkt_tab for tokenization (newer version)\n",
    "nltk.download('punkt_tab')\n",
    "nltk.download('averaged_perceptron_tagger_eng')\n",
    "nltk.download('stopwords')\n",
    "nltk.download('wordnet')\n",
    "nltk.download('omw-1.4')\n",
    "\n",
    "print('\\nNLTK data downloaded successfully!')\n"
   ]
  },
  {
   "cell_type": "code",
   "execution_count": 3,
   "id": "134c2b7f",
   "metadata": {},
   "outputs": [
    {
     "name": "stdout",
     "output_type": "stream",
     "text": [
      "Dataset shape: (10, 2)\n",
      "\n",
      "First few rows:\n",
      "                                                text sentiment\n",
      "0  I absolutely loved this movie. The acting was ...  positive\n",
      "1                      Terrible film. Waste of time.  negative\n",
      "2  What a fantastic experience, I’ll watch it again!  positive\n",
      "3            Worst movie ever, I couldn’t finish it.  negative\n",
      "4   Beautiful direction and story. Highly recommend!  positive\n",
      "\n",
      "Sentiment distribution:\n",
      "sentiment\n",
      "positive    5\n",
      "negative    5\n",
      "Name: count, dtype: int64\n"
     ]
    }
   ],
   "source": [
    "# Load the movie reviews dataset\n",
    "df = pd.read_csv('movie_reviews_dataset.csv')\n",
    "\n",
    "print(f'Dataset shape: {df.shape}')\n",
    "print(f'\\nFirst few rows:')\n",
    "print(df.head())\n",
    "print(f'\\nSentiment distribution:')\n",
    "print(df['sentiment'].value_counts())\n"
   ]
  },
  {
   "cell_type": "code",
   "execution_count": 5,
   "id": "98b8c8aa",
   "metadata": {},
   "outputs": [
    {
     "name": "stdout",
     "output_type": "stream",
     "text": [
      "Preprocessing function defined successfully!\n"
     ]
    }
   ],
   "source": [
    "# Initialize preprocessing tools\n",
    "stop_words = set(stopwords.words('english'))\n",
    "stemmer = PorterStemmer()\n",
    "lemmatizer = WordNetLemmatizer()\n",
    "\n",
    "def preprocess_text(text):\n",
    "    \"\"\"\n",
    "    Preprocess text with tokenization, stemming, lemmatization, and POS tagging\n",
    "    \n",
    "    Args:\n",
    "        text: Input text string\n",
    "    \n",
    "    Returns:\n",
    "        Tuple of (cleaned_text, pos_tags)\n",
    "    \"\"\"\n",
    "    # Convert to lowercase\n",
    "    text = text.lower()\n",
    "    \n",
    "    # Tokenization\n",
    "    tokens = word_tokenize(text)\n",
    "    \n",
    "    # Remove non-alphabetic tokens and stop words\n",
    "    tokens = [word for word in tokens if word.isalpha() and word not in stop_words]\n",
    "    \n",
    "    # Stemming\n",
    "    stemmed = [stemmer.stem(word) for word in tokens]\n",
    "    \n",
    "    # Lemmatization\n",
    "    lemmatized = [lemmatizer.lemmatize(word) for word in stemmed]\n",
    "    \n",
    "    # POS Tagging\n",
    "    pos_tags = pos_tag(lemmatized)\n",
    "    \n",
    "    # Return cleaned text and POS tags\n",
    "    return ' '.join(lemmatized), pos_tags\n",
    "\n",
    "print('Preprocessing function defined successfully!')\n"
   ]
  },
  {
   "cell_type": "code",
   "execution_count": 6,
   "id": "25f7427a",
   "metadata": {},
   "outputs": [
    {
     "name": "stdout",
     "output_type": "stream",
     "text": [
      "Applying preprocessing to dataset...\n",
      "\n",
      "Preprocessing complete!\n",
      "\n",
      "Sample of original vs. preprocessed text:\n",
      "\n",
      "Original: I absolutely loved this movie. The acting was great!\n",
      "Cleaned:  absolut love movi act great\n",
      "POS Tags: [('absolut', 'RB'), ('love', 'VB'), ('movi', 'NN'), ('act', 'NN'), ('great', 'JJ')]...\n",
      "\n",
      "Original: Terrible film. Waste of time.\n",
      "Cleaned:  terribl film wast time\n",
      "POS Tags: [('terribl', 'NN'), ('film', 'NN'), ('wast', 'NN'), ('time', 'NN')]...\n",
      "\n",
      "Original: What a fantastic experience, I’ll watch it again!\n",
      "Cleaned:  fantast experi watch\n",
      "POS Tags: [('fantast', 'JJ'), ('experi', 'NN'), ('watch', 'NN')]...\n"
     ]
    }
   ],
   "source": [
    "# Apply preprocessing to the dataset\n",
    "print('Applying preprocessing to dataset...')\n",
    "df['clean_text'], df['pos_tags'] = zip(*df['text'].apply(preprocess_text))\n",
    "\n",
    "print('\\nPreprocessing complete!')\n",
    "print('\\nSample of original vs. preprocessed text:')\n",
    "for i in range(3):\n",
    "    print(f'\\nOriginal: {df.iloc[i][\"text\"]}')\n",
    "    print(f'Cleaned:  {df.iloc[i][\"clean_text\"]}')\n",
    "    print(f'POS Tags: {df.iloc[i][\"pos_tags\"][:5]}...')  # Show first 5 POS tags\n"
   ]
  },
  {
   "cell_type": "code",
   "execution_count": 7,
   "id": "d048fd5f",
   "metadata": {},
   "outputs": [
    {
     "name": "stdout",
     "output_type": "stream",
     "text": [
      "Count Vectorization shape: (10, 37)\n",
      "Feature names (first 10): ['absolut' 'act' 'aw' 'bad' 'beauti' 'bit' 'bore' 'brilliant' 'cast'\n",
      " 'cinematographi']\n",
      "\n",
      "TF-IDF Vectorization shape: (10, 37)\n",
      "Feature names (first 10): ['absolut' 'act' 'aw' 'bad' 'beauti' 'bit' 'bore' 'brilliant' 'cast'\n",
      " 'cinematographi']\n"
     ]
    }
   ],
   "source": [
    "# Method 1: Count Vectorization\n",
    "count_vectorizer = CountVectorizer(max_features=100)\n",
    "X_count = count_vectorizer.fit_transform(df['clean_text'])\n",
    "\n",
    "print(f'Count Vectorization shape: {X_count.shape}')\n",
    "print(f'Feature names (first 10): {count_vectorizer.get_feature_names_out()[:10]}')\n",
    "\n",
    "# Method 2: TF-IDF Vectorization\n",
    "tfidf_vectorizer = TfidfVectorizer(max_features=100)\n",
    "X_tfidf = tfidf_vectorizer.fit_transform(df['clean_text'])\n",
    "\n",
    "print(f'\\nTF-IDF Vectorization shape: {X_tfidf.shape}')\n",
    "print(f'Feature names (first 10): {tfidf_vectorizer.get_feature_names_out()[:10]}')\n"
   ]
  },
  {
   "cell_type": "code",
   "execution_count": 8,
   "id": "ca499f31",
   "metadata": {},
   "outputs": [
    {
     "name": "stdout",
     "output_type": "stream",
     "text": [
      "Training set size: 8\n",
      "Testing set size: 2\n",
      "\n",
      "Training set sentiment distribution:\n",
      "sentiment\n",
      "positive    4\n",
      "negative    4\n",
      "Name: count, dtype: int64\n"
     ]
    }
   ],
   "source": [
    "# Prepare target variable\n",
    "y = df['sentiment']\n",
    "\n",
    "# Split data into training and testing sets (80-20 split)\n",
    "X_train_count, X_test_count, y_train, y_test = train_test_split(\n",
    "    X_count, y, test_size=0.2, random_state=42, stratify=y\n",
    ")\n",
    "\n",
    "X_train_tfidf, X_test_tfidf, _, _ = train_test_split(\n",
    "    X_tfidf, y, test_size=0.2, random_state=42, stratify=y\n",
    ")\n",
    "\n",
    "print(f'Training set size: {X_train_count.shape[0]}')\n",
    "print(f'Testing set size: {X_test_count.shape[0]}')\n",
    "print(f'\\nTraining set sentiment distribution:')\n",
    "print(y_train.value_counts())\n"
   ]
  },
  {
   "cell_type": "code",
   "execution_count": 9,
   "id": "c8d7480d",
   "metadata": {},
   "outputs": [
    {
     "name": "stdout",
     "output_type": "stream",
     "text": [
      "Training Naive Bayes with Count Vectorization...\n",
      "Training complete!\n",
      "\n",
      "Training Naive Bayes with TF-IDF...\n",
      "Training complete!\n",
      "\n",
      "Training Logistic Regression with Count Vectorization...\n",
      "Training complete!\n",
      "\n",
      "Training Logistic Regression with TF-IDF...\n",
      "Training complete!\n"
     ]
    }
   ],
   "source": [
    "# Train Naive Bayes with Count Vectorization\n",
    "print('Training Naive Bayes with Count Vectorization...')\n",
    "nb_count = MultinomialNB()\n",
    "nb_count.fit(X_train_count, y_train)\n",
    "print('Training complete!')\n",
    "\n",
    "# Train Naive Bayes with TF-IDF\n",
    "print('\\nTraining Naive Bayes with TF-IDF...')\n",
    "nb_tfidf = MultinomialNB()\n",
    "nb_tfidf.fit(X_train_tfidf, y_train)\n",
    "print('Training complete!')\n",
    "\n",
    "# Train Logistic Regression with Count Vectorization\n",
    "print('\\nTraining Logistic Regression with Count Vectorization...')\n",
    "lr_count = LogisticRegression(max_iter=1000, random_state=42)\n",
    "lr_count.fit(X_train_count, y_train)\n",
    "print('Training complete!')\n",
    "\n",
    "# Train Logistic Regression with TF-IDF\n",
    "print('\\nTraining Logistic Regression with TF-IDF...')\n",
    "lr_tfidf = LogisticRegression(max_iter=1000, random_state=42)\n",
    "lr_tfidf.fit(X_train_tfidf, y_train)\n",
    "print('Training complete!')\n"
   ]
  },
  {
   "cell_type": "code",
   "execution_count": 10,
   "id": "58854954",
   "metadata": {},
   "outputs": [
    {
     "name": "stdout",
     "output_type": "stream",
     "text": [
      "\n",
      "============================================================\n",
      "Naive Bayes with Count Vectorization\n",
      "============================================================\n",
      "Accuracy: 1.0000 (100.00%)\n",
      "\n",
      "Classification Report:\n",
      "              precision    recall  f1-score   support\n",
      "\n",
      "    negative       1.00      1.00      1.00         1\n",
      "    positive       1.00      1.00      1.00         1\n",
      "\n",
      "    accuracy                           1.00         2\n",
      "   macro avg       1.00      1.00      1.00         2\n",
      "weighted avg       1.00      1.00      1.00         2\n",
      "\n",
      "\n",
      "Confusion Matrix:\n",
      "[[1 0]\n",
      " [0 1]]\n",
      "\n",
      "============================================================\n",
      "Naive Bayes with TF-IDF\n",
      "============================================================\n",
      "Accuracy: 1.0000 (100.00%)\n",
      "\n",
      "Classification Report:\n",
      "              precision    recall  f1-score   support\n",
      "\n",
      "    negative       1.00      1.00      1.00         1\n",
      "    positive       1.00      1.00      1.00         1\n",
      "\n",
      "    accuracy                           1.00         2\n",
      "   macro avg       1.00      1.00      1.00         2\n",
      "weighted avg       1.00      1.00      1.00         2\n",
      "\n",
      "\n",
      "Confusion Matrix:\n",
      "[[1 0]\n",
      " [0 1]]\n",
      "\n",
      "============================================================\n",
      "Logistic Regression with Count Vectorization\n",
      "============================================================\n",
      "Accuracy: 1.0000 (100.00%)\n",
      "\n",
      "Classification Report:\n",
      "              precision    recall  f1-score   support\n",
      "\n",
      "    negative       1.00      1.00      1.00         1\n",
      "    positive       1.00      1.00      1.00         1\n",
      "\n",
      "    accuracy                           1.00         2\n",
      "   macro avg       1.00      1.00      1.00         2\n",
      "weighted avg       1.00      1.00      1.00         2\n",
      "\n",
      "\n",
      "Confusion Matrix:\n",
      "[[1 0]\n",
      " [0 1]]\n",
      "\n",
      "============================================================\n",
      "Logistic Regression with TF-IDF\n",
      "============================================================\n",
      "Accuracy: 0.5000 (50.00%)\n",
      "\n",
      "Classification Report:\n",
      "              precision    recall  f1-score   support\n",
      "\n",
      "    negative       0.00      0.00      0.00         1\n",
      "    positive       0.50      1.00      0.67         1\n",
      "\n",
      "    accuracy                           0.50         2\n",
      "   macro avg       0.25      0.50      0.33         2\n",
      "weighted avg       0.25      0.50      0.33         2\n",
      "\n",
      "\n",
      "Confusion Matrix:\n",
      "[[0 1]\n",
      " [0 1]]\n"
     ]
    }
   ],
   "source": [
    "# Function to evaluate model\n",
    "def evaluate_model(model, X_test, y_test, model_name):\n",
    "    y_pred = model.predict(X_test)\n",
    "    accuracy = accuracy_score(y_test, y_pred)\n",
    "    \n",
    "    print(f'\\n{\"=\"*60}')\n",
    "    print(f'{model_name}')\n",
    "    print(f'{\"=\"*60}')\n",
    "    print(f'Accuracy: {accuracy:.4f} ({accuracy*100:.2f}%)')\n",
    "    print(f'\\nClassification Report:')\n",
    "    print(classification_report(y_test, y_pred))\n",
    "    print(f'\\nConfusion Matrix:')\n",
    "    print(confusion_matrix(y_test, y_pred))\n",
    "    \n",
    "    return accuracy\n",
    "\n",
    "# Evaluate all models\n",
    "results = {}\n",
    "results['NB_Count'] = evaluate_model(nb_count, X_test_count, y_test, 'Naive Bayes with Count Vectorization')\n",
    "results['NB_TFIDF'] = evaluate_model(nb_tfidf, X_test_tfidf, y_test, 'Naive Bayes with TF-IDF')\n",
    "results['LR_Count'] = evaluate_model(lr_count, X_test_count, y_test, 'Logistic Regression with Count Vectorization')\n",
    "results['LR_TFIDF'] = evaluate_model(lr_tfidf, X_test_tfidf, y_test, 'Logistic Regression with TF-IDF')\n"
   ]
  },
  {
   "cell_type": "code",
   "execution_count": 11,
   "id": "27b2693e",
   "metadata": {},
   "outputs": [
    {
     "name": "stdout",
     "output_type": "stream",
     "text": [
      "\n",
      "============================================================\n",
      "MODEL COMPARISON SUMMARY\n",
      "============================================================\n",
      "NB_Count                      : 1.0000 (100.00%)\n",
      "NB_TFIDF                      : 1.0000 (100.00%)\n",
      "LR_Count                      : 1.0000 (100.00%)\n",
      "LR_TFIDF                      : 0.5000 (50.00%)\n",
      "\n",
      "Best Model: NB_Count with accuracy 1.0000\n"
     ]
    }
   ],
   "source": [
    "# Compare all models\n",
    "print('\\n' + '='*60)\n",
    "print('MODEL COMPARISON SUMMARY')\n",
    "print('='*60)\n",
    "for model_name, accuracy in sorted(results.items(), key=lambda x: x[1], reverse=True):\n",
    "    print(f'{model_name:30s}: {accuracy:.4f} ({accuracy*100:.2f}%)')\n",
    "\n",
    "best_model = max(results, key=results.get)\n",
    "print(f'\\nBest Model: {best_model} with accuracy {results[best_model]:.4f}')\n"
   ]
  },
  {
   "cell_type": "code",
   "execution_count": null,
   "id": "f863b653",
   "metadata": {},
   "outputs": [],
   "source": [
    "# Function to predict sentiment of new text\n",
    "def predict_sentiment(text, model, vectorizer):\n",
    "    # Preprocess the text\n",
    "    cleaned_text, _ = preprocess_text(text)\n",
    "    \n",
    "    # Vectorize\n",
    "    text_vectorized = vectorizer.transform([cleaned_text])\n",
    "    \n",
    "    # Predict\n",
    "    prediction = model.predict(text_vectorized)[0]\n",
    "    \n",
    "    return prediction\n",
    "\n",
    "# Test with example reviews\n",
    "test_reviews = [\n",
    "    \"This movie was absolutely fantastic! I loved every minute of it.\",\n",
    "    \"Terrible movie, complete waste of time and money.\",\n",
    "    \"The acting was brilliant and the story was captivating.\",\n",
    "    \"Boring and predictable. Would not recommend.\"\n",
    "]\n",
    "\n",
    "print('Testing with custom reviews using best performing model (Logistic Regression + TF-IDF):\\n')\n",
    "for review in test_reviews:\n",
    "    sentiment = predict_sentiment(review, lr_tfidf, tfidf_vectorizer)\n",
    "    print(f'Review: \"{review}\"')\n",
    "    print(f'Predicted Sentiment: {sentiment.upper()}')\n",
    "    print()\n"
   ]
  }
 ],
 "metadata": {
  "kernelspec": {
   "display_name": "Python 3",
   "language": "python",
   "name": "python3"
  },
  "language_info": {
   "codemirror_mode": {
    "name": "ipython",
    "version": 3
   },
   "file_extension": ".py",
   "mimetype": "text/x-python",
   "name": "python",
   "nbconvert_exporter": "python",
   "pygments_lexer": "ipython3",
   "version": "3.13.7"
  }
 },
 "nbformat": 4,
 "nbformat_minor": 5
}
